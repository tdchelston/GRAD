{
 "cells": [
  {
   "cell_type": "markdown",
   "metadata": {},
   "source": [
    "# Programming Assignment: Numerical Optimization for Logistic Regression.\n",
    "\n",
    "### Name: Tyler Chelston\n"
   ]
  },
  {
   "cell_type": "markdown",
   "metadata": {},
   "source": [
    "## 0. You will do the following:\n",
    "\n",
    "1. Read the lecture note: [click here](https://github.com/wangshusen/DeepLearning/blob/master/LectureNotes/Logistic/paper/logistic.pdf)\n",
    "\n",
    "2. Read, complete, and run my code.\n",
    "\n",
    "3. **Implement mini-batch SGD** and evaluate the performance.\n",
    "\n",
    "4. Convert the .IPYNB file to .HTML file.\n",
    "\n",
    "    * The HTML file must contain **the code** and **the output after execution**.\n",
    "    \n",
    "    * Missing **the output after execution** will not be graded.\n",
    "    \n",
    "    \n",
    "5. Upload this .HTML file to your Google Drive, Dropbox, or your Github repo.  (If you submit the file to Google Drive or Dropbox, you must make the file \"open-access\". The delay caused by \"deny of access\" may result in late penalty.)\n",
    "\n",
    "6. On Canvas, submit the Google Drive/Dropbox/Github link to the HTML file.\n",
    "\n",
    "\n",
    "## Grading criteria:\n",
    "\n",
    "1. When computing the ```gradient``` and ```objective function value``` using a batch of samples, use **matrix-vector multiplication** rather than a FOR LOOP of **vector-vector multiplications**.\n",
    "\n",
    "2. Plot ```objective function value``` against ```epochs```. In the plot, compare GD, SGD, and MB-SGD (with $b=8$ and $b=64$). The plot must look reasonable."
   ]
  },
  {
   "cell_type": "code",
   "execution_count": null,
   "metadata": {},
   "outputs": [],
   "source": []
  },
  {
   "cell_type": "markdown",
   "metadata": {},
   "source": [
    "# 1. Data processing\n",
    "\n",
    "- Download the Diabete dataset from https://www.csie.ntu.edu.tw/~cjlin/libsvmtools/datasets/binary/diabetes\n",
    "- Load the data using sklearn.\n",
    "- Preprocess the data."
   ]
  },
  {
   "cell_type": "markdown",
   "metadata": {},
   "source": [
    "## 1.1. Load the data"
   ]
  },
  {
   "cell_type": "code",
   "execution_count": 2,
   "metadata": {},
   "outputs": [
    {
     "name": "stdout",
     "output_type": "stream",
     "text": [
      "Shape of x: (768, 8)\n",
      "Shape of y: (768,)\n"
     ]
    }
   ],
   "source": [
    "from sklearn import datasets\n",
    "import numpy\n",
    "\n",
    "x_sparse, y = datasets.load_svmlight_file('diabetes')\n",
    "x = x_sparse.todense()\n",
    "\n",
    "print('Shape of x: ' + str(x.shape))\n",
    "print('Shape of y: ' + str(y.shape))"
   ]
  },
  {
   "cell_type": "markdown",
   "metadata": {},
   "source": [
    "## 1.2. Partition to training and test sets"
   ]
  },
  {
   "cell_type": "code",
   "execution_count": 3,
   "metadata": {},
   "outputs": [
    {
     "name": "stdout",
     "output_type": "stream",
     "text": [
      "Shape of x_train: (640, 8)\n",
      "Shape of x_test: (128, 8)\n",
      "Shape of y_train: (640, 1)\n",
      "Shape of y_test: (128, 1)\n"
     ]
    }
   ],
   "source": [
    "# partition the data to training and test sets\n",
    "n = x.shape[0]\n",
    "n_train = 640\n",
    "n_test = n - n_train\n",
    "\n",
    "rand_indices = numpy.random.permutation(n)\n",
    "train_indices = rand_indices[0:n_train]\n",
    "test_indices = rand_indices[n_train:n]\n",
    "\n",
    "x_train = x[train_indices, :]\n",
    "x_test = x[test_indices, :]\n",
    "y_train = y[train_indices].reshape(n_train, 1)\n",
    "y_test = y[test_indices].reshape(n_test, 1)\n",
    "\n",
    "print('Shape of x_train: ' + str(x_train.shape))\n",
    "print('Shape of x_test: ' + str(x_test.shape))\n",
    "print('Shape of y_train: ' + str(y_train.shape))\n",
    "print('Shape of y_test: ' + str(y_test.shape))"
   ]
  },
  {
   "cell_type": "markdown",
   "metadata": {},
   "source": [
    "## 1.3. Feature scaling"
   ]
  },
  {
   "cell_type": "markdown",
   "metadata": {},
   "source": [
    "Use the standardization to trainsform both training and test features"
   ]
  },
  {
   "cell_type": "code",
   "execution_count": 4,
   "metadata": {},
   "outputs": [
    {
     "name": "stdout",
     "output_type": "stream",
     "text": [
      "test mean = \n",
      "[[ 0.0417817  -0.07066845 -0.03157957 -0.11668906 -0.15487274 -0.09843014\n",
      "  -0.03925053 -0.04943699]]\n",
      "test std = \n",
      "[[1.06782458 0.95631916 1.05928668 0.95617912 0.88912626 1.10764375\n",
      "  0.91116198 0.91382766]]\n"
     ]
    }
   ],
   "source": [
    "# Standardization\n",
    "import numpy\n",
    "\n",
    "# calculate mu and sig using the training set\n",
    "d = x_train.shape[1]\n",
    "mu = numpy.mean(x_train, axis=0).reshape(1, d)\n",
    "sig = numpy.std(x_train, axis=0).reshape(1, d)\n",
    "\n",
    "# transform the training features\n",
    "x_train = (x_train - mu) / (sig + 1E-6)\n",
    "\n",
    "# transform the test features\n",
    "x_test = (x_test - mu) / (sig + 1E-6)\n",
    "\n",
    "print('test mean = ')\n",
    "print(numpy.mean(x_test, axis=0))\n",
    "\n",
    "print('test std = ')\n",
    "print(numpy.std(x_test, axis=0))"
   ]
  },
  {
   "cell_type": "markdown",
   "metadata": {},
   "source": [
    "## 1.4. Add a dimension of all ones"
   ]
  },
  {
   "cell_type": "code",
   "execution_count": 5,
   "metadata": {},
   "outputs": [
    {
     "name": "stdout",
     "output_type": "stream",
     "text": [
      "Shape of x_train: (640, 9)\n",
      "Shape of x_test: (128, 9)\n"
     ]
    }
   ],
   "source": [
    "n_train, d = x_train.shape\n",
    "x_train = numpy.concatenate((x_train, numpy.ones((n_train, 1))), axis=1)\n",
    "\n",
    "n_test, d = x_test.shape\n",
    "x_test = numpy.concatenate((x_test, numpy.ones((n_test, 1))), axis=1)\n",
    "\n",
    "print('Shape of x_train: ' + str(x_train.shape))\n",
    "print('Shape of x_test: ' + str(x_test.shape))"
   ]
  },
  {
   "cell_type": "markdown",
   "metadata": {},
   "source": [
    "# 2. Logistic regression model\n",
    "\n",
    "The objective function is $Q (w; X, y) = \\frac{1}{n} \\sum_{i=1}^n \\log \\Big( 1 + \\exp \\big( - y_i x_i^T w \\big) \\Big) + \\frac{\\lambda}{2} \\| w \\|_2^2 $."
   ]
  },
  {
   "cell_type": "code",
   "execution_count": 6,
   "metadata": {},
   "outputs": [],
   "source": [
    "# Calculate the objective function value\n",
    "# Inputs:\n",
    "#     w: d-by-1 matrix\n",
    "#     x: n-by-d matrix\n",
    "#     y: n-by-1 matrix\n",
    "#     lam: scalar, the regularization parameter\n",
    "# Return:\n",
    "#     objective function value (scalar)\n",
    "def objective(w, x, y, lam):\n",
    "    n, d = x.shape\n",
    "    yx = numpy.multiply(y, x) # n-by-d matrix\n",
    "    yxw = numpy.dot(yx, w) # n-by-1 matrix\n",
    "    vec1 = numpy.exp(-yxw) # n-by-1 matrix\n",
    "    vec2 = numpy.log(1 + vec1) # n-by-1 matrix\n",
    "    loss = numpy.mean(vec2) # scalar\n",
    "    reg = lam / 2 * numpy.sum(w * w) # scalar\n",
    "    return loss + reg\n",
    "    "
   ]
  },
  {
   "cell_type": "code",
   "execution_count": 7,
   "metadata": {},
   "outputs": [
    {
     "name": "stdout",
     "output_type": "stream",
     "text": [
      "Initial objective function value = 0.6931471805599453\n"
     ]
    }
   ],
   "source": [
    "# initialize w\n",
    "d = x_train.shape[1]\n",
    "w = numpy.zeros((d, 1))\n",
    "\n",
    "# evaluate the objective function value at w\n",
    "lam = 1E-6\n",
    "objval0 = objective(w, x_train, y_train, lam)\n",
    "print('Initial objective function value = ' + str(objval0))"
   ]
  },
  {
   "cell_type": "markdown",
   "metadata": {},
   "source": [
    "# 3. Numerical optimization"
   ]
  },
  {
   "cell_type": "markdown",
   "metadata": {},
   "source": [
    "## 3.1. Gradient descent\n"
   ]
  },
  {
   "cell_type": "markdown",
   "metadata": {},
   "source": [
    "The gradient at $w$ is $g = - \\frac{1}{n} \\sum_{i=1}^n \\frac{y_i x_i }{1 + \\exp ( y_i x_i^T w)} + \\lambda w$"
   ]
  },
  {
   "cell_type": "code",
   "execution_count": 8,
   "metadata": {},
   "outputs": [],
   "source": [
    "# Calculate the gradient\n",
    "# Inputs:\n",
    "#     w: d-by-1 matrix\n",
    "#     x: n-by-d matrix\n",
    "#     y: n-by-1 matrix\n",
    "#     lam: scalar, the regularization parameter\n",
    "# Return:\n",
    "#     g: g: d-by-1 matrix, full gradient\n",
    "def gradient(w, x, y, lam):\n",
    "    n, d = x.shape\n",
    "    yx = numpy.multiply(y, x) # n-by-d matrix\n",
    "    yxw = numpy.dot(yx, w) # n-by-1 matrix\n",
    "    vec1 = numpy.exp(yxw) # n-by-1 matrix\n",
    "    vec2 = numpy.divide(yx, 1+vec1) # n-by-d matrix\n",
    "    vec3 = -numpy.mean(vec2, axis=0).reshape(d, 1) # d-by-1 matrix\n",
    "    g = vec3 + lam * w\n",
    "    return g"
   ]
  },
  {
   "cell_type": "code",
   "execution_count": 9,
   "metadata": {},
   "outputs": [],
   "source": [
    "# Gradient descent for solving logistic regression\n",
    "# Inputs:\n",
    "#     x: n-by-d matrix\n",
    "#     y: n-by-1 matrix\n",
    "#     lam: scalar, the regularization parameter\n",
    "#     stepsize: scalar\n",
    "#     max_iter: integer, the maximal iterations\n",
    "#     w: d-by-1 matrix, initialization of w\n",
    "# Return:\n",
    "#     w: d-by-1 matrix, the solution\n",
    "#     objvals: a record of each iteration's objective value\n",
    "def grad_descent(x, y, lam, stepsize, max_iter=100, w=None):\n",
    "    n, d = x.shape\n",
    "    objvals = numpy.zeros(max_iter) # store the objective values\n",
    "    if w is None:\n",
    "        w = numpy.zeros((d, 1)) # zero initialization\n",
    "    \n",
    "    for t in range(max_iter):\n",
    "        objval = objective(w, x, y, lam)\n",
    "        objvals[t] = objval\n",
    "        print('Objective value at t=' + str(t) + ' is ' + str(objval))\n",
    "        g = gradient(w, x, y, lam)\n",
    "        w -= stepsize * g\n",
    "    \n",
    "    return w, objvals"
   ]
  },
  {
   "cell_type": "markdown",
   "metadata": {},
   "source": [
    "Run gradient descent."
   ]
  },
  {
   "cell_type": "code",
   "execution_count": 10,
   "metadata": {
    "collapsed": true,
    "jupyter": {
     "outputs_hidden": true
    },
    "tags": []
   },
   "outputs": [
    {
     "name": "stdout",
     "output_type": "stream",
     "text": [
      "Objective value at t=0 is 0.6931471805599453\n",
      "Objective value at t=1 is 0.5937702770435456\n",
      "Objective value at t=2 is 0.5532519867735852\n",
      "Objective value at t=3 is 0.531487114951369\n",
      "Objective value at t=4 is 0.5179531349899527\n",
      "Objective value at t=5 is 0.5088295043940427\n",
      "Objective value at t=6 is 0.5023645873861962\n",
      "Objective value at t=7 is 0.4976263694141027\n",
      "Objective value at t=8 is 0.4940673858362746\n",
      "Objective value at t=9 is 0.49134331487243277\n",
      "Objective value at t=10 is 0.4892266946650058\n",
      "Objective value at t=11 is 0.48756162698352723\n",
      "Objective value at t=12 is 0.48623814981508123\n",
      "Objective value at t=13 is 0.48517688245835433\n",
      "Objective value at t=14 is 0.4843194057285157\n",
      "Objective value at t=15 is 0.4836220175349637\n",
      "Objective value at t=16 is 0.48305156050985654\n",
      "Objective value at t=17 is 0.48258256585048676\n",
      "Objective value at t=18 is 0.48219525725743523\n",
      "Objective value at t=19 is 0.48187413054033856\n",
      "Objective value at t=20 is 0.48160692658049653\n",
      "Objective value at t=21 is 0.48138387801597915\n",
      "Objective value at t=22 is 0.4811971495219322\n",
      "Objective value at t=23 is 0.4810404170389754\n",
      "Objective value at t=24 is 0.48090854806934613\n",
      "Objective value at t=25 is 0.4807973563922399\n",
      "Objective value at t=26 is 0.4807034121959182\n",
      "Objective value at t=27 is 0.48062389390629373\n",
      "Objective value at t=28 is 0.4805564716903869\n",
      "Objective value at t=29 is 0.4804992152355987\n",
      "Objective value at t=30 is 0.4804505202870724\n",
      "Objective value at t=31 is 0.48040904978982507\n",
      "Objective value at t=32 is 0.4803736864820072\n",
      "Objective value at t=33 is 0.4803434945251606\n",
      "Objective value at t=34 is 0.48031768830935656\n",
      "Objective value at t=35 is 0.4802956069866605\n",
      "Objective value at t=36 is 0.4802766936017229\n",
      "Objective value at t=37 is 0.4802604779294077\n",
      "Objective value at t=38 is 0.4802465623150263\n",
      "Objective value at t=39 is 0.4802346099566696\n",
      "Objective value at t=40 is 0.48022433518137464\n",
      "Objective value at t=41 is 0.4802154953549609\n",
      "Objective value at t=42 is 0.48020788413486026\n",
      "Objective value at t=43 is 0.4802013258303901\n",
      "Objective value at t=44 is 0.48019567067885616\n",
      "Objective value at t=45 is 0.48019079088104716\n",
      "Objective value at t=46 is 0.4801865772679822\n",
      "Objective value at t=47 is 0.4801829364936083\n",
      "Objective value at t=48 is 0.480179788666674\n",
      "Objective value at t=49 is 0.48017706535006205\n",
      "Objective value at t=50 is 0.4801747078681675\n",
      "Objective value at t=51 is 0.48017266587297136\n",
      "Objective value at t=52 is 0.4801708961277364\n",
      "Objective value at t=53 is 0.4801693614740602\n",
      "Objective value at t=54 is 0.4801680299536453\n",
      "Objective value at t=55 is 0.4801668740608069\n",
      "Objective value at t=56 is 0.4801658701055975\n",
      "Objective value at t=57 is 0.48016499767064663\n",
      "Objective value at t=58 is 0.48016423914748935\n",
      "Objective value at t=59 is 0.4801635793403917\n",
      "Objective value at t=60 is 0.48016300512755733\n",
      "Objective value at t=61 is 0.4801625051711584\n",
      "Objective value at t=62 is 0.4801620696689591\n",
      "Objective value at t=63 is 0.48016169014139776\n",
      "Objective value at t=64 is 0.4801613592489294\n",
      "Objective value at t=65 is 0.4801610706352131\n",
      "Objective value at t=66 is 0.48016081879239436\n",
      "Objective value at t=67 is 0.4801605989452863\n",
      "Objective value at t=68 is 0.48016040695173423\n",
      "Objective value at t=69 is 0.48016023921684664\n",
      "Objective value at t=70 is 0.48016009261911347\n",
      "Objective value at t=71 is 0.4801599644467272\n",
      "Objective value at t=72 is 0.48015985234266273\n",
      "Objective value at t=73 is 0.4801597542572833\n",
      "Objective value at t=74 is 0.480159668407418\n",
      "Objective value at t=75 is 0.48015959324100627\n",
      "Objective value at t=76 is 0.48015952740653456\n",
      "Objective value at t=77 is 0.4801594697266021\n",
      "Objective value at t=78 is 0.4801594191750449\n",
      "Objective value at t=79 is 0.480159374857128\n",
      "Objective value at t=80 is 0.4801593359923865\n",
      "Objective value at t=81 is 0.480159301899753\n",
      "Objective value at t=82 is 0.4801592719846594\n",
      "Objective value at t=83 is 0.48015924572784724\n",
      "Objective value at t=84 is 0.48015922267565375\n",
      "Objective value at t=85 is 0.4801592024315755\n",
      "Objective value at t=86 is 0.4801591846489389\n",
      "Objective value at t=87 is 0.48015916902452815\n",
      "Objective value at t=88 is 0.48015915529304326\n",
      "Objective value at t=89 is 0.4801591432222792\n",
      "Objective value at t=90 is 0.4801591326089281\n",
      "Objective value at t=91 is 0.48015912327492394\n",
      "Objective value at t=92 is 0.48015911506425946\n",
      "Objective value at t=93 is 0.4801591078402086\n",
      "Objective value at t=94 is 0.48015910148290825\n",
      "Objective value at t=95 is 0.4801590958872458\n",
      "Objective value at t=96 is 0.48015909096101755\n",
      "Objective value at t=97 is 0.4801590866233195\n",
      "Objective value at t=98 is 0.4801590828031437\n",
      "Objective value at t=99 is 0.4801590794381498\n"
     ]
    }
   ],
   "source": [
    "lam = 1E-6\n",
    "stepsize = 1.0\n",
    "w, objvals_gd = grad_descent(x_train, y_train, lam, stepsize)"
   ]
  },
  {
   "cell_type": "markdown",
   "metadata": {},
   "source": [
    "## 3.2. Stochastic gradient descent (SGD)\n",
    "\n",
    "Define $Q_i (w) = \\log \\Big( 1 + \\exp \\big( - y_i x_i^T w \\big) \\Big) + \\frac{\\lambda}{2} \\| w \\|_2^2 $.\n",
    "\n",
    "The stochastic gradient at $w$ is $g_i = \\frac{\\partial Q_i }{ \\partial w} = -\\frac{y_i x_i }{1 + \\exp ( y_i x_i^T w)} + \\lambda w$."
   ]
  },
  {
   "cell_type": "code",
   "execution_count": 11,
   "metadata": {},
   "outputs": [],
   "source": [
    "# Calculate the objective Q_i and the gradient of Q_i\n",
    "# Inputs:\n",
    "#     w: d-by-1 matrix\n",
    "#     xi: 1-by-d matrix\n",
    "#     yi: scalar\n",
    "#     lam: scalar, the regularization parameter\n",
    "# Return:\n",
    "#     obj: scalar, the objective Q_i\n",
    "#     g: d-by-1 matrix, gradient of Q_i\n",
    "def stochastic_objective_gradient(w, xi, yi, lam):\n",
    "    yx = yi * xi # 1-by-d matrix\n",
    "    yxw = float(numpy.dot(yx, w)) # scalar\n",
    "    \n",
    "    # calculate objective function Q_i\n",
    "    loss = numpy.log(1 + numpy.exp(-yxw)) # scalar\n",
    "    reg = lam / 2 * numpy.sum(w * w) # scalar\n",
    "    obj = loss + reg\n",
    "    \n",
    "    # calculate stochastic gradient\n",
    "    g_loss = -yx.T / (1 + numpy.exp(yxw)) # d-by-1 matrix\n",
    "    g = g_loss + lam * w # d-by-1 matrix\n",
    "    \n",
    "    return obj, g"
   ]
  },
  {
   "cell_type": "code",
   "execution_count": 29,
   "metadata": {},
   "outputs": [],
   "source": [
    "# SGD for solving logistic regression\n",
    "# Inputs:\n",
    "#     x: n-by-d matrix\n",
    "#     y: n-by-1 matrix\n",
    "#     lam: scalar, the regularization parameter\n",
    "#     stepsize: scalar\n",
    "#     max_epoch: integer, the maximal epochs\n",
    "#     w: d-by-1 matrix, initialization of w\n",
    "# Return:\n",
    "#     w: the solution\n",
    "#     objvals: record of each iteration's objective value\n",
    "def sgd(x, y, lam, stepsize, max_epoch=100, w=None):\n",
    "    n, d = x.shape\n",
    "    objvals = numpy.zeros(max_epoch) # store the objective values\n",
    "    if w is None:\n",
    "        w = numpy.zeros((d, 1)) # zero initialization\n",
    "    \n",
    "    for t in range(max_epoch):\n",
    "        # randomly shuffle the samples\n",
    "        rand_indices = numpy.random.permutation(n)\n",
    "        x_rand = x[rand_indices, :]\n",
    "        y_rand = y[rand_indices, :]\n",
    "        \n",
    "        objval = 0 # accumulate the objective values\n",
    "        for i in range(n):\n",
    "            xi = x_rand[i, :] # 1-by-d matrix\n",
    "            yi = float(y_rand[i, :]) # scalar\n",
    "            obj, g = stochastic_objective_gradient(w, xi, yi, lam)\n",
    "            objval += obj\n",
    "            w -= stepsize * g\n",
    "        \n",
    "        stepsize *= 0.9 # decrease step size\n",
    "        objval /= n\n",
    "        objvals[t] = objval\n",
    "        print('Objective value at epoch t=' + str(t) + ' is ' + str(objval))\n",
    "    \n",
    "    return w, objvals"
   ]
  },
  {
   "cell_type": "markdown",
   "metadata": {},
   "source": [
    "Run SGD."
   ]
  },
  {
   "cell_type": "code",
   "execution_count": 30,
   "metadata": {
    "collapsed": true,
    "jupyter": {
     "outputs_hidden": true
    },
    "tags": []
   },
   "outputs": [
    {
     "name": "stdout",
     "output_type": "stream",
     "text": [
      "Objective value at epoch t=0 is 0.5422587526801269\n",
      "Objective value at epoch t=1 is 0.5275331158093516\n",
      "Objective value at epoch t=2 is 0.5223883132101064\n",
      "Objective value at epoch t=3 is 0.5172552128645298\n",
      "Objective value at epoch t=4 is 0.5065342377257507\n",
      "Objective value at epoch t=5 is 0.5131125990932719\n",
      "Objective value at epoch t=6 is 0.5080928909995851\n",
      "Objective value at epoch t=7 is 0.5075460649893933\n",
      "Objective value at epoch t=8 is 0.5017316911973861\n",
      "Objective value at epoch t=9 is 0.5043865520561965\n",
      "Objective value at epoch t=10 is 0.49770960576367856\n",
      "Objective value at epoch t=11 is 0.491454249141894\n",
      "Objective value at epoch t=12 is 0.4928058163904597\n",
      "Objective value at epoch t=13 is 0.49522477809449733\n",
      "Objective value at epoch t=14 is 0.4928497239210031\n",
      "Objective value at epoch t=15 is 0.49353376635827917\n",
      "Objective value at epoch t=16 is 0.4928472441948112\n",
      "Objective value at epoch t=17 is 0.48913306492196346\n",
      "Objective value at epoch t=18 is 0.4876581931427714\n",
      "Objective value at epoch t=19 is 0.48918561163801605\n",
      "Objective value at epoch t=20 is 0.4877265669723137\n",
      "Objective value at epoch t=21 is 0.48647705818111664\n",
      "Objective value at epoch t=22 is 0.4862650575053281\n",
      "Objective value at epoch t=23 is 0.48609678147720253\n",
      "Objective value at epoch t=24 is 0.4856551971721802\n",
      "Objective value at epoch t=25 is 0.4849823552065822\n",
      "Objective value at epoch t=26 is 0.48471533463218364\n",
      "Objective value at epoch t=27 is 0.4839054473671219\n",
      "Objective value at epoch t=28 is 0.4838886209926918\n",
      "Objective value at epoch t=29 is 0.4833105039436535\n",
      "Objective value at epoch t=30 is 0.4830250558820226\n",
      "Objective value at epoch t=31 is 0.4828690721011687\n",
      "Objective value at epoch t=32 is 0.48265000497231164\n",
      "Objective value at epoch t=33 is 0.4823015658808112\n",
      "Objective value at epoch t=34 is 0.48207197417749653\n",
      "Objective value at epoch t=35 is 0.48190521052549035\n",
      "Objective value at epoch t=36 is 0.4816054423023547\n",
      "Objective value at epoch t=37 is 0.4816410376579894\n",
      "Objective value at epoch t=38 is 0.48149222658610275\n",
      "Objective value at epoch t=39 is 0.48133669524881395\n",
      "Objective value at epoch t=40 is 0.48123458471997094\n",
      "Objective value at epoch t=41 is 0.4811149352167061\n",
      "Objective value at epoch t=42 is 0.4810183542768748\n",
      "Objective value at epoch t=43 is 0.48094289375447696\n",
      "Objective value at epoch t=44 is 0.48083681492866714\n",
      "Objective value at epoch t=45 is 0.48079542062725167\n",
      "Objective value at epoch t=46 is 0.4807301196320686\n",
      "Objective value at epoch t=47 is 0.48067403886722715\n",
      "Objective value at epoch t=48 is 0.4806203822911521\n",
      "Objective value at epoch t=49 is 0.4805791271266524\n",
      "Objective value at epoch t=50 is 0.4805369267994567\n",
      "Objective value at epoch t=51 is 0.480496707635046\n",
      "Objective value at epoch t=52 is 0.4804654835869638\n",
      "Objective value at epoch t=53 is 0.48043623757185416\n",
      "Objective value at epoch t=54 is 0.48040820212043683\n",
      "Objective value at epoch t=55 is 0.4803820307500983\n",
      "Objective value at epoch t=56 is 0.48036129767646363\n",
      "Objective value at epoch t=57 is 0.4803409317668178\n",
      "Objective value at epoch t=58 is 0.48032296869157554\n",
      "Objective value at epoch t=59 is 0.4803064316014415\n",
      "Objective value at epoch t=60 is 0.48029170140247385\n",
      "Objective value at epoch t=61 is 0.48027885723609076\n",
      "Objective value at epoch t=62 is 0.4802666741299341\n",
      "Objective value at epoch t=63 is 0.48025615790166204\n",
      "Objective value at epoch t=64 is 0.48024637988676455\n",
      "Objective value at epoch t=65 is 0.4802377210685627\n",
      "Objective value at epoch t=66 is 0.4802298444765983\n",
      "Objective value at epoch t=67 is 0.4802228830497131\n",
      "Objective value at epoch t=68 is 0.48021651572671165\n",
      "Objective value at epoch t=69 is 0.4802107918537116\n",
      "Objective value at epoch t=70 is 0.48020568629449334\n",
      "Objective value at epoch t=71 is 0.48020107316594085\n",
      "Objective value at epoch t=72 is 0.4801968655549266\n",
      "Objective value at epoch t=73 is 0.4801931658555468\n",
      "Objective value at epoch t=74 is 0.4801897882941691\n",
      "Objective value at epoch t=75 is 0.48018675129662647\n",
      "Objective value at epoch t=76 is 0.48018400340768846\n",
      "Objective value at epoch t=77 is 0.4801815563882391\n",
      "Objective value at epoch t=78 is 0.48017933460917117\n",
      "Objective value at epoch t=79 is 0.48017735181556154\n",
      "Objective value at epoch t=80 is 0.48017555688691693\n",
      "Objective value at epoch t=81 is 0.4801739408652107\n",
      "Objective value at epoch t=82 is 0.48017249022671926\n",
      "Objective value at epoch t=83 is 0.4801711822907661\n",
      "Objective value at epoch t=84 is 0.4801700066061416\n",
      "Objective value at epoch t=85 is 0.4801689466469634\n",
      "Objective value at epoch t=86 is 0.48016799292899526\n",
      "Objective value at epoch t=87 is 0.4801671339284832\n",
      "Objective value at epoch t=88 is 0.4801663627307137\n",
      "Objective value at epoch t=89 is 0.48016566750589584\n",
      "Objective value at epoch t=90 is 0.4801650415896942\n",
      "Objective value at epoch t=91 is 0.4801644792537643\n",
      "Objective value at epoch t=92 is 0.4801639721566775\n",
      "Objective value at epoch t=93 is 0.48016351630624704\n",
      "Objective value at epoch t=94 is 0.4801631057508489\n",
      "Objective value at epoch t=95 is 0.4801627362541431\n",
      "Objective value at epoch t=96 is 0.4801624036790243\n",
      "Objective value at epoch t=97 is 0.4801621045126776\n",
      "Objective value at epoch t=98 is 0.48016183511356497\n",
      "Objective value at epoch t=99 is 0.48016159267249137\n"
     ]
    }
   ],
   "source": [
    "lam = 1E-6\n",
    "stepsize = 0.1\n",
    "w, objvals_sgd = sgd(x_train, y_train, lam, stepsize)"
   ]
  },
  {
   "cell_type": "markdown",
   "metadata": {},
   "source": [
    "# 4. Compare GD with SGD\n",
    "\n",
    "Plot objective function values against epochs."
   ]
  },
  {
   "cell_type": "code",
   "execution_count": 14,
   "metadata": {},
   "outputs": [
    {
     "data": {
      "image/png": "[encoded data removed]",
      "text/plain": [
       "<Figure size 600x400 with 1 Axes>"
      ]
     },
     "metadata": {},
     "output_type": "display_data"
    }
   ],
   "source": [
    "import matplotlib.pyplot as plt\n",
    "%matplotlib inline\n",
    "\n",
    "fig = plt.figure(figsize=(6, 4))\n",
    "\n",
    "epochs_gd = range(len(objvals_gd))\n",
    "epochs_sgd = range(len(objvals_sgd))\n",
    "\n",
    "line0, = plt.plot(epochs_gd, objvals_gd, '--b', LineWidth=4)\n",
    "line1, = plt.plot(epochs_sgd, objvals_sgd, '-r', LineWidth=2)\n",
    "plt.xlabel('Epochs', FontSize=20)\n",
    "plt.ylabel('Objective Value', FontSize=20)\n",
    "plt.xticks(FontSize=16)\n",
    "plt.yticks(FontSize=16)\n",
    "plt.legend([line0, line1], ['GD', 'SGD'], fontsize=20)\n",
    "plt.tight_layout()\n",
    "plt.show()\n",
    "fig.savefig('compare_gd_sgd.pdf', format='pdf', dpi=1200)"
   ]
  },
  {
   "cell_type": "markdown",
   "metadata": {},
   "source": [
    "# 5. Prediction"
   ]
  },
  {
   "cell_type": "code",
   "execution_count": 15,
   "metadata": {},
   "outputs": [],
   "source": [
    "# Predict class label\n",
    "# Inputs:\n",
    "#     w: d-by-1 matrix\n",
    "#     X: m-by-d matrix\n",
    "# Return:\n",
    "#     f: m-by-1 matrix, the predictions\n",
    "def predict(w, X):\n",
    "    xw = numpy.dot(X, w)\n",
    "    f = numpy.sign(xw)\n",
    "    return f"
   ]
  },
  {
   "cell_type": "code",
   "execution_count": 16,
   "metadata": {},
   "outputs": [
    {
     "name": "stdout",
     "output_type": "stream",
     "text": [
      "Training classification error is 0.2203125\n"
     ]
    }
   ],
   "source": [
    "# evaluate training error\n",
    "f_train = predict(w, x_train)\n",
    "diff = numpy.abs(f_train - y_train) / 2\n",
    "error_train = numpy.mean(diff)\n",
    "print('Training classification error is ' + str(error_train))"
   ]
  },
  {
   "cell_type": "code",
   "execution_count": 17,
   "metadata": {},
   "outputs": [
    {
     "name": "stdout",
     "output_type": "stream",
     "text": [
      "Test classification error is 0.21875\n"
     ]
    }
   ],
   "source": [
    "# evaluate test error\n",
    "f_test = predict(w, x_test)\n",
    "diff = numpy.abs(f_test - y_test) / 2\n",
    "error_test = numpy.mean(diff)\n",
    "print('Test classification error is ' + str(error_test))"
   ]
  },
  {
   "cell_type": "markdown",
   "metadata": {},
   "source": [
    "# 6. Mini-batch SGD (fill the code)"
   ]
  },
  {
   "cell_type": "markdown",
   "metadata": {},
   "source": [
    "## 6.1. Compute the objective $Q_I$ and its gradient using a batch of samples\n",
    "\n",
    "Define $Q_I (w) = \\frac{1}{b} \\sum_{i \\in I} \\log \\Big( 1 + \\exp \\big( - y_i x_i^T w \\big) \\Big) + \\frac{\\lambda}{2} \\| w \\|_2^2 $, where $I$ is a set containing $b$ indices randomly drawn from $\\{ 1, \\cdots , n \\}$ without replacement.\n",
    "\n",
    "The stochastic gradient at $w$ is $g_I = \\frac{\\partial Q_I }{ \\partial w} = \\frac{1}{b} \\sum_{i \\in I} \\frac{- y_i x_i }{1 + \\exp ( y_i x_i^T w)} + \\lambda w$."
   ]
  },
  {
   "cell_type": "code",
   "execution_count": 19,
   "metadata": {},
   "outputs": [],
   "source": [
    "# Calculate the objective Q_I and the gradient of Q_I\n",
    "# Inputs:\n",
    "#     w: d-by-1 matrix\n",
    "#     xi: b-by-d matrix\n",
    "#     yi: b-by-1 matrix\n",
    "#     lam: scalar, the regularization parameter\n",
    "#     b: integer, the batch size\n",
    "# Return:\n",
    "#     obj: scalar, the objective Q_i\n",
    "#     g: d-by-1 matrix, gradient of Q_i\n",
    "def mb_stochastic_objective_gradient(w, xi, yi, lam, b):\n",
    "    # Fill the function\n",
    "    # Follow the implementation of stochastic_objective_gradient\n",
    "    # Use matrix-vector multiplication; do not use FOR LOOP of vector-vector multiplications\n",
    "    # Compute the objective value for the mini-batch\n",
    "    obj = objective(w, xi, yi, lam)\n",
    "    \n",
    "    # Compute the gradient for the mini-batch\n",
    "    g = gradient(w, xi, yi, lam)\n",
    "    \n",
    "    return obj, g"
   ]
  },
  {
   "cell_type": "markdown",
   "metadata": {},
   "source": [
    "## 6.2. Implement mini-batch SGD\n",
    "\n",
    "Hints:\n",
    "1. In every epoch, randomly permute the $n$ samples (just like SGD).\n",
    "2. Each epoch has $\\frac{n}{b}$ iterations. In every iteration, use $b$ samples, and compute the gradient and objective using the ``mb_stochastic_objective_gradient`` function. In the next iteration, use the next $b$ samples, and so on.\n"
   ]
  },
  {
   "cell_type": "code",
   "execution_count": 22,
   "metadata": {},
   "outputs": [],
   "source": [
    "import numpy as np\n",
    "# Mini-Batch SGD for solving logistic regression\n",
    "# Inputs:\n",
    "#     x: n-by-d matrix\n",
    "#     y: n-by-1 matrix\n",
    "#     lam: scalar, the regularization parameter\n",
    "#     b: integer, the batch size\n",
    "#     stepsize: scalar\n",
    "#     max_epoch: integer, the maximal epochs\n",
    "#     w: d-by-1 matrix, initialization of w\n",
    "# Return:\n",
    "#     w: the solution\n",
    "#     objvals: record of each iteration's objective value\n",
    "def mb_sgd(x, y, lam, b, stepsize, max_epoch=100, w=None):\n",
    "    # Fill the function\n",
    "    # Follow the implementation of sgd\n",
    "    # Record one objective value per epoch (not per iteration!)\n",
    "    n, d = x.shape\n",
    "    objvals = np.zeros(max_epoch) # Store the objective values per epoch\n",
    "    if w is None:\n",
    "        w = np.zeros((d, 1)) # Zero initialization\n",
    "    \n",
    "    for t in range(max_epoch):\n",
    "        # Randomly shuffle the dataset\n",
    "        rand_indices = np.random.permutation(n)\n",
    "        x_rand = x[rand_indices, :]\n",
    "        y_rand = y[rand_indices, :]\n",
    "        \n",
    "        # Iterate over mini-batches\n",
    "        for i in range(0, n, b):\n",
    "            xi = x_rand[i:i+b, :]\n",
    "            yi = y_rand[i:i+b, :]\n",
    "            \n",
    "            # Compute the gradient for the mini-batch\n",
    "            _, g = mb_stochastic_objective_gradient(w, xi, yi, lam, b)\n",
    "            \n",
    "            # Update weights\n",
    "            w -= stepsize * g\n",
    "        \n",
    "        # Evaluate and record the objective value for the entire dataset\n",
    "        objval = objective(w, x, y, lam)\n",
    "        objvals[t] = objval\n",
    "        print(f'Objective value at epoch {t+1} is {objval}')\n",
    "    \n",
    "    return w, objvals"
   ]
  },
  {
   "cell_type": "markdown",
   "metadata": {},
   "source": [
    "## 6.3. Run MB-SGD"
   ]
  },
  {
   "cell_type": "code",
   "execution_count": 36,
   "metadata": {
    "tags": []
   },
   "outputs": [
    {
     "name": "stdout",
     "output_type": "stream",
     "text": [
      "Objective value at epoch 1 is 0.49939142570367195\n",
      "Objective value at epoch 2 is 0.4852183597785766\n",
      "Objective value at epoch 3 is 0.4819266819974995\n",
      "Objective value at epoch 4 is 0.48085715707798965\n",
      "Objective value at epoch 5 is 0.4816302791141741\n",
      "Objective value at epoch 6 is 0.481377614442648\n",
      "Objective value at epoch 7 is 0.48109290184582154\n",
      "Objective value at epoch 8 is 0.48139164558802794\n",
      "Objective value at epoch 9 is 0.48167049122896927\n",
      "Objective value at epoch 10 is 0.4818263701949071\n",
      "Objective value at epoch 11 is 0.4805702943950212\n",
      "Objective value at epoch 12 is 0.4815311228781036\n",
      "Objective value at epoch 13 is 0.4817869813444136\n",
      "Objective value at epoch 14 is 0.48116689284794456\n",
      "Objective value at epoch 15 is 0.48076553152136975\n",
      "Objective value at epoch 16 is 0.4804081888055275\n",
      "Objective value at epoch 17 is 0.48063232629772673\n",
      "Objective value at epoch 18 is 0.4833434489564195\n",
      "Objective value at epoch 19 is 0.4806902117157816\n",
      "Objective value at epoch 20 is 0.48046377248109834\n",
      "Objective value at epoch 21 is 0.48076574389371823\n",
      "Objective value at epoch 22 is 0.48051732281408693\n",
      "Objective value at epoch 23 is 0.4806212170367385\n",
      "Objective value at epoch 24 is 0.4829999737314117\n",
      "Objective value at epoch 25 is 0.4809688619569038\n",
      "Objective value at epoch 26 is 0.481670449314442\n",
      "Objective value at epoch 27 is 0.4805561227907292\n",
      "Objective value at epoch 28 is 0.4826699396174383\n",
      "Objective value at epoch 29 is 0.48057134114780437\n",
      "Objective value at epoch 30 is 0.4806941166997117\n",
      "Objective value at epoch 31 is 0.48074233414078055\n",
      "Objective value at epoch 32 is 0.48169855506816794\n",
      "Objective value at epoch 33 is 0.48045708091412814\n",
      "Objective value at epoch 34 is 0.48118790818752255\n",
      "Objective value at epoch 35 is 0.48082565467836963\n",
      "Objective value at epoch 36 is 0.48137508036272064\n",
      "Objective value at epoch 37 is 0.48109612756030135\n",
      "Objective value at epoch 38 is 0.4812875769359092\n",
      "Objective value at epoch 39 is 0.4802914985156004\n",
      "Objective value at epoch 40 is 0.48110339455636014\n",
      "Objective value at epoch 41 is 0.48076533804094773\n",
      "Objective value at epoch 42 is 0.48063032361575136\n",
      "Objective value at epoch 43 is 0.48100394202472097\n",
      "Objective value at epoch 44 is 0.4808147014782707\n",
      "Objective value at epoch 45 is 0.4813499538211259\n",
      "Objective value at epoch 46 is 0.4803518073549897\n",
      "Objective value at epoch 47 is 0.4805478035568076\n",
      "Objective value at epoch 48 is 0.48092862667494035\n",
      "Objective value at epoch 49 is 0.480390036299043\n",
      "Objective value at epoch 50 is 0.4816997798864899\n",
      "Objective value at epoch 51 is 0.48058303121385443\n",
      "Objective value at epoch 52 is 0.48131692979693846\n",
      "Objective value at epoch 53 is 0.48046734154630144\n",
      "Objective value at epoch 54 is 0.48070127976131993\n",
      "Objective value at epoch 55 is 0.4805050916972128\n",
      "Objective value at epoch 56 is 0.48098626217371804\n",
      "Objective value at epoch 57 is 0.4817269124078996\n",
      "Objective value at epoch 58 is 0.4807199539152315\n",
      "Objective value at epoch 59 is 0.48084263748412326\n",
      "Objective value at epoch 60 is 0.480473372415702\n",
      "Objective value at epoch 61 is 0.48066422127761094\n",
      "Objective value at epoch 62 is 0.48263317887500895\n",
      "Objective value at epoch 63 is 0.4806755401518884\n",
      "Objective value at epoch 64 is 0.480442296608142\n",
      "Objective value at epoch 65 is 0.4807666220790173\n",
      "Objective value at epoch 66 is 0.4809436559096941\n",
      "Objective value at epoch 67 is 0.4839721223466144\n",
      "Objective value at epoch 68 is 0.48059632795719287\n",
      "Objective value at epoch 69 is 0.48158103170144134\n",
      "Objective value at epoch 70 is 0.48090188991047794\n",
      "Objective value at epoch 71 is 0.4805323409145322\n",
      "Objective value at epoch 72 is 0.48051386021562537\n",
      "Objective value at epoch 73 is 0.4813932395669268\n",
      "Objective value at epoch 74 is 0.48075195971269263\n",
      "Objective value at epoch 75 is 0.4806523288081036\n",
      "Objective value at epoch 76 is 0.48046829431945903\n",
      "Objective value at epoch 77 is 0.4809404735347357\n",
      "Objective value at epoch 78 is 0.4806980979056074\n",
      "Objective value at epoch 79 is 0.48054151336888307\n",
      "Objective value at epoch 80 is 0.48111743276861135\n",
      "Objective value at epoch 81 is 0.48056501863087836\n",
      "Objective value at epoch 82 is 0.48068368799484174\n",
      "Objective value at epoch 83 is 0.4807919873325623\n",
      "Objective value at epoch 84 is 0.481332496513968\n",
      "Objective value at epoch 85 is 0.4806276876880634\n",
      "Objective value at epoch 86 is 0.4807256538367836\n",
      "Objective value at epoch 87 is 0.4805723440692032\n",
      "Objective value at epoch 88 is 0.48219538282526375\n",
      "Objective value at epoch 89 is 0.4809117090785146\n",
      "Objective value at epoch 90 is 0.4815746388230436\n",
      "Objective value at epoch 91 is 0.4804058588460769\n",
      "Objective value at epoch 92 is 0.4803298395256114\n",
      "Objective value at epoch 93 is 0.4808033141420239\n",
      "Objective value at epoch 94 is 0.4805678684338209\n",
      "Objective value at epoch 95 is 0.48063839037625494\n",
      "Objective value at epoch 96 is 0.48042309373207925\n",
      "Objective value at epoch 97 is 0.4808992648542864\n",
      "Objective value at epoch 98 is 0.4802846184118835\n",
      "Objective value at epoch 99 is 0.4802238530463237\n",
      "Objective value at epoch 100 is 0.48038534501694585\n"
     ]
    }
   ],
   "source": [
    "# MB-SGD with batch size b=8\n",
    "lam = 1E-6 # do not change\n",
    "b = 8 # do not change\n",
    "stepsize = 0.1 # you must tune this parameter\n",
    "\n",
    "w, objvals_mbsgd8 = mb_sgd(x_train, y_train, lam, b, stepsize)"
   ]
  },
  {
   "cell_type": "code",
   "execution_count": 34,
   "metadata": {
    "collapsed": true,
    "jupyter": {
     "outputs_hidden": true
    },
    "tags": []
   },
   "outputs": [
    {
     "name": "stdout",
     "output_type": "stream",
     "text": [
      "Objective value at epoch 1 is 0.6056371527632514\n",
      "Objective value at epoch 2 is 0.5635367612183478\n",
      "Objective value at epoch 3 is 0.539184948842398\n",
      "Objective value at epoch 4 is 0.5235950233351936\n",
      "Objective value at epoch 5 is 0.5132164917052306\n",
      "Objective value at epoch 6 is 0.5057814682228001\n",
      "Objective value at epoch 7 is 0.5003518020776604\n",
      "Objective value at epoch 8 is 0.49631520762286013\n",
      "Objective value at epoch 9 is 0.49321647266015844\n",
      "Objective value at epoch 10 is 0.49078543962094096\n",
      "Objective value at epoch 11 is 0.4888643125610222\n",
      "Objective value at epoch 12 is 0.48733921068071184\n",
      "Objective value at epoch 13 is 0.4861105692151336\n",
      "Objective value at epoch 14 is 0.485122815298564\n",
      "Objective value at epoch 15 is 0.48431132668988364\n",
      "Objective value at epoch 16 is 0.4836215817160771\n",
      "Objective value at epoch 17 is 0.483065809886887\n",
      "Objective value at epoch 18 is 0.48260930360882576\n",
      "Objective value at epoch 19 is 0.4822345073826571\n",
      "Objective value at epoch 20 is 0.4819177715014526\n",
      "Objective value at epoch 21 is 0.4816507359565157\n",
      "Objective value at epoch 22 is 0.4814346200250659\n",
      "Objective value at epoch 23 is 0.4812496171515982\n",
      "Objective value at epoch 24 is 0.48108433906368675\n",
      "Objective value at epoch 25 is 0.48094776165017905\n",
      "Objective value at epoch 26 is 0.4808306194277573\n",
      "Objective value at epoch 27 is 0.4807340211234812\n",
      "Objective value at epoch 28 is 0.48064927200646995\n",
      "Objective value at epoch 29 is 0.4805791483540934\n",
      "Objective value at epoch 30 is 0.48051702243833283\n",
      "Objective value at epoch 31 is 0.4804669799145278\n",
      "Objective value at epoch 32 is 0.4804268240132369\n",
      "Objective value at epoch 33 is 0.48039111321688566\n",
      "Objective value at epoch 34 is 0.4803613377169877\n",
      "Objective value at epoch 35 is 0.48033151489734244\n",
      "Objective value at epoch 36 is 0.48030864223070646\n",
      "Objective value at epoch 37 is 0.4802907172730476\n",
      "Objective value at epoch 38 is 0.4802747120873282\n",
      "Objective value at epoch 39 is 0.48025988500485073\n",
      "Objective value at epoch 40 is 0.48024750834253727\n",
      "Objective value at epoch 41 is 0.4802340813888634\n",
      "Objective value at epoch 42 is 0.48022526175095226\n",
      "Objective value at epoch 43 is 0.4802155333266444\n",
      "Objective value at epoch 44 is 0.4802119090677998\n",
      "Objective value at epoch 45 is 0.4802015136398513\n",
      "Objective value at epoch 46 is 0.48019643008465956\n",
      "Objective value at epoch 47 is 0.4801909846406621\n",
      "Objective value at epoch 48 is 0.4801861239241337\n",
      "Objective value at epoch 49 is 0.4801823787410754\n",
      "Objective value at epoch 50 is 0.4801790402585877\n",
      "Objective value at epoch 51 is 0.48017761354685673\n",
      "Objective value at epoch 52 is 0.4801749286661787\n",
      "Objective value at epoch 53 is 0.48017703561334135\n",
      "Objective value at epoch 54 is 0.4801828235683404\n",
      "Objective value at epoch 55 is 0.48017442478953876\n",
      "Objective value at epoch 56 is 0.4801699672892208\n",
      "Objective value at epoch 57 is 0.48017220995020854\n",
      "Objective value at epoch 58 is 0.4801696495303149\n",
      "Objective value at epoch 59 is 0.48016606529445854\n",
      "Objective value at epoch 60 is 0.48016633339861875\n",
      "Objective value at epoch 61 is 0.48016593315457995\n",
      "Objective value at epoch 62 is 0.48016406027075736\n",
      "Objective value at epoch 63 is 0.48016317591703683\n",
      "Objective value at epoch 64 is 0.4801641505207793\n",
      "Objective value at epoch 65 is 0.4801626380322897\n",
      "Objective value at epoch 66 is 0.48016297133500163\n",
      "Objective value at epoch 67 is 0.48016243431376576\n",
      "Objective value at epoch 68 is 0.48016304821872824\n",
      "Objective value at epoch 69 is 0.4801649303313465\n",
      "Objective value at epoch 70 is 0.4801622195664618\n",
      "Objective value at epoch 71 is 0.48016257005062385\n",
      "Objective value at epoch 72 is 0.4801640356756022\n",
      "Objective value at epoch 73 is 0.48016621336007087\n",
      "Objective value at epoch 74 is 0.48016117253352786\n",
      "Objective value at epoch 75 is 0.4801618109366583\n",
      "Objective value at epoch 76 is 0.4801609647646347\n",
      "Objective value at epoch 77 is 0.48016025837767234\n",
      "Objective value at epoch 78 is 0.4801621114675621\n",
      "Objective value at epoch 79 is 0.4801649987414828\n",
      "Objective value at epoch 80 is 0.480162226167356\n",
      "Objective value at epoch 81 is 0.4801599784984854\n",
      "Objective value at epoch 82 is 0.48015980133644715\n",
      "Objective value at epoch 83 is 0.48016034642164984\n",
      "Objective value at epoch 84 is 0.4801611263517903\n",
      "Objective value at epoch 85 is 0.48015993008421093\n",
      "Objective value at epoch 86 is 0.4801642554304662\n",
      "Objective value at epoch 87 is 0.4801695139353041\n",
      "Objective value at epoch 88 is 0.48016561602351193\n",
      "Objective value at epoch 89 is 0.4801629347675555\n",
      "Objective value at epoch 90 is 0.48016248406320794\n",
      "Objective value at epoch 91 is 0.4801609250511898\n",
      "Objective value at epoch 92 is 0.4801622371143406\n",
      "Objective value at epoch 93 is 0.48016067103785254\n",
      "Objective value at epoch 94 is 0.48015962048787053\n",
      "Objective value at epoch 95 is 0.48016074200889336\n",
      "Objective value at epoch 96 is 0.48016236623963776\n",
      "Objective value at epoch 97 is 0.4801621064835465\n",
      "Objective value at epoch 98 is 0.48016140207118924\n",
      "Objective value at epoch 99 is 0.4801640036517496\n",
      "Objective value at epoch 100 is 0.48016163433360626\n"
     ]
    }
   ],
   "source": [
    "# MB-SGD with batch size b=64\n",
    "lam = 1E-6 # do not change\n",
    "b = 64 # do not change\n",
    "stepsize = 0.1 # you must tune this parameter\n",
    "\n",
    "w, objvals_mbsgd64 = mb_sgd(x_train, y_train, lam, b, stepsize)"
   ]
  },
  {
   "cell_type": "markdown",
   "metadata": {},
   "source": [
    "# 7. Plot and compare GD, SGD, and MB-SGD"
   ]
  },
  {
   "cell_type": "markdown",
   "metadata": {},
   "source": [
    "You are required to compare the following algorithms:\n",
    "\n",
    "- Gradient descent (GD)\n",
    "\n",
    "- SGD\n",
    "\n",
    "- MB-SGD with b=8\n",
    "\n",
    "- MB-SGD with b=64\n",
    "\n",
    "Follow the code in Section 4 to plot ```objective function value``` against ```epochs```. There should be four curves in the plot; each curve corresponds to one algorithm."
   ]
  },
  {
   "cell_type": "markdown",
   "metadata": {},
   "source": [
    "Hint: Logistic regression with $\\ell_2$-norm regularization is a strongly convex optimization problem. All the algorithms will converge to the same solution. **In the end, the ``objective function value`` of the 4 algorithms will be the same. If not the same, your implementation must be wrong. Do NOT submit wrong code and wrong result!**"
   ]
  },
  {
   "cell_type": "code",
   "execution_count": 38,
   "metadata": {},
   "outputs": [
    {
     "data": {
      "image/png": "[encoded data removed]",
      "text/plain": [
       "<Figure size 1200x800 with 1 Axes>"
      ]
     },
     "metadata": {},
     "output_type": "display_data"
    }
   ],
   "source": [
    "# plot the 4 curves:\n",
    "plt.figure(figsize=(12, 8))\n",
    "plt.plot(objvals_gd, label=\"Gradient Descent (GD)\", linestyle=\"-\", color=\"blue\")\n",
    "plt.plot(objvals_sgd, label=\"Stochastic Gradient Descent (SGD)\", linestyle=\"--\", color=\"red\")\n",
    "plt.plot(objvals_mbsgd8, label=\"Mini-batch SGD (b=8)\", linestyle=\"-.\", color=\"green\")\n",
    "plt.plot(objvals_mbsgd64, label=\"Mini-batch SGD (b=64)\", linestyle=\":\", color=\"purple\")\n",
    "plt.xlabel(\"Epochs\")\n",
    "plt.ylabel(\"Objective Value\")\n",
    "plt.title(\"Objective Value vs. Epochs for Different Algorithms\")\n",
    "plt.legend()\n",
    "plt.grid(True)\n",
    "plt.show()"
   ]
  },
  {
   "cell_type": "code",
   "execution_count": 47,
   "metadata": {},
   "outputs": [
    {
     "data": {
      "text/html": [
       "<div>\n",
       "<style scoped>\n",
       "    .dataframe tbody tr th:only-of-type {\n",
       "        vertical-align: middle;\n",
       "    }\n",
       "\n",
       "    .dataframe tbody tr th {\n",
       "        vertical-align: top;\n",
       "    }\n",
       "\n",
       "    .dataframe thead th {\n",
       "        text-align: right;\n",
       "    }\n",
       "</style>\n",
       "<table border=\"1\" class=\"dataframe\">\n",
       "  <thead>\n",
       "    <tr style=\"text-align: right;\">\n",
       "      <th></th>\n",
       "      <th>Gradient Descent (GD)</th>\n",
       "      <th>Stochastic Gradient Descent (SGD)</th>\n",
       "      <th>Mini-batch SGD (b=8)</th>\n",
       "      <th>Mini-batch SGD (b=64)</th>\n",
       "    </tr>\n",
       "  </thead>\n",
       "  <tbody>\n",
       "    <tr>\n",
       "      <th>0</th>\n",
       "      <td>0.693147</td>\n",
       "      <td>0.542259</td>\n",
       "      <td>0.499391</td>\n",
       "      <td>0.605637</td>\n",
       "    </tr>\n",
       "    <tr>\n",
       "      <th>1</th>\n",
       "      <td>0.593770</td>\n",
       "      <td>0.527533</td>\n",
       "      <td>0.485218</td>\n",
       "      <td>0.563537</td>\n",
       "    </tr>\n",
       "    <tr>\n",
       "      <th>2</th>\n",
       "      <td>0.553252</td>\n",
       "      <td>0.522388</td>\n",
       "      <td>0.481927</td>\n",
       "      <td>0.539185</td>\n",
       "    </tr>\n",
       "    <tr>\n",
       "      <th>3</th>\n",
       "      <td>0.531487</td>\n",
       "      <td>0.517255</td>\n",
       "      <td>0.480857</td>\n",
       "      <td>0.523595</td>\n",
       "    </tr>\n",
       "    <tr>\n",
       "      <th>4</th>\n",
       "      <td>0.517953</td>\n",
       "      <td>0.506534</td>\n",
       "      <td>0.481630</td>\n",
       "      <td>0.513216</td>\n",
       "    </tr>\n",
       "    <tr>\n",
       "      <th>5</th>\n",
       "      <td>0.508830</td>\n",
       "      <td>0.513113</td>\n",
       "      <td>0.481378</td>\n",
       "      <td>0.505781</td>\n",
       "    </tr>\n",
       "    <tr>\n",
       "      <th>6</th>\n",
       "      <td>0.502365</td>\n",
       "      <td>0.508093</td>\n",
       "      <td>0.481093</td>\n",
       "      <td>0.500352</td>\n",
       "    </tr>\n",
       "    <tr>\n",
       "      <th>7</th>\n",
       "      <td>0.497626</td>\n",
       "      <td>0.507546</td>\n",
       "      <td>0.481392</td>\n",
       "      <td>0.496315</td>\n",
       "    </tr>\n",
       "    <tr>\n",
       "      <th>8</th>\n",
       "      <td>0.494067</td>\n",
       "      <td>0.501732</td>\n",
       "      <td>0.481670</td>\n",
       "      <td>0.493216</td>\n",
       "    </tr>\n",
       "    <tr>\n",
       "      <th>9</th>\n",
       "      <td>0.491343</td>\n",
       "      <td>0.504387</td>\n",
       "      <td>0.481826</td>\n",
       "      <td>0.490785</td>\n",
       "    </tr>\n",
       "    <tr>\n",
       "      <th>90</th>\n",
       "      <td>0.480159</td>\n",
       "      <td>0.480165</td>\n",
       "      <td>0.480406</td>\n",
       "      <td>0.480161</td>\n",
       "    </tr>\n",
       "    <tr>\n",
       "      <th>91</th>\n",
       "      <td>0.480159</td>\n",
       "      <td>0.480164</td>\n",
       "      <td>0.480330</td>\n",
       "      <td>0.480162</td>\n",
       "    </tr>\n",
       "    <tr>\n",
       "      <th>92</th>\n",
       "      <td>0.480159</td>\n",
       "      <td>0.480164</td>\n",
       "      <td>0.480803</td>\n",
       "      <td>0.480161</td>\n",
       "    </tr>\n",
       "    <tr>\n",
       "      <th>93</th>\n",
       "      <td>0.480159</td>\n",
       "      <td>0.480164</td>\n",
       "      <td>0.480568</td>\n",
       "      <td>0.480160</td>\n",
       "    </tr>\n",
       "    <tr>\n",
       "      <th>94</th>\n",
       "      <td>0.480159</td>\n",
       "      <td>0.480163</td>\n",
       "      <td>0.480638</td>\n",
       "      <td>0.480161</td>\n",
       "    </tr>\n",
       "    <tr>\n",
       "      <th>95</th>\n",
       "      <td>0.480159</td>\n",
       "      <td>0.480163</td>\n",
       "      <td>0.480423</td>\n",
       "      <td>0.480162</td>\n",
       "    </tr>\n",
       "    <tr>\n",
       "      <th>96</th>\n",
       "      <td>0.480159</td>\n",
       "      <td>0.480162</td>\n",
       "      <td>0.480899</td>\n",
       "      <td>0.480162</td>\n",
       "    </tr>\n",
       "    <tr>\n",
       "      <th>97</th>\n",
       "      <td>0.480159</td>\n",
       "      <td>0.480162</td>\n",
       "      <td>0.480285</td>\n",
       "      <td>0.480161</td>\n",
       "    </tr>\n",
       "    <tr>\n",
       "      <th>98</th>\n",
       "      <td>0.480159</td>\n",
       "      <td>0.480162</td>\n",
       "      <td>0.480224</td>\n",
       "      <td>0.480164</td>\n",
       "    </tr>\n",
       "    <tr>\n",
       "      <th>99</th>\n",
       "      <td>0.480159</td>\n",
       "      <td>0.480162</td>\n",
       "      <td>0.480385</td>\n",
       "      <td>0.480162</td>\n",
       "    </tr>\n",
       "  </tbody>\n",
       "</table>\n",
       "</div>"
      ],
      "text/plain": [
       "    Gradient Descent (GD)  Stochastic Gradient Descent (SGD)  \\\n",
       "0                0.693147                           0.542259   \n",
       "1                0.593770                           0.527533   \n",
       "2                0.553252                           0.522388   \n",
       "3                0.531487                           0.517255   \n",
       "4                0.517953                           0.506534   \n",
       "5                0.508830                           0.513113   \n",
       "6                0.502365                           0.508093   \n",
       "7                0.497626                           0.507546   \n",
       "8                0.494067                           0.501732   \n",
       "9                0.491343                           0.504387   \n",
       "90               0.480159                           0.480165   \n",
       "91               0.480159                           0.480164   \n",
       "92               0.480159                           0.480164   \n",
       "93               0.480159                           0.480164   \n",
       "94               0.480159                           0.480163   \n",
       "95               0.480159                           0.480163   \n",
       "96               0.480159                           0.480162   \n",
       "97               0.480159                           0.480162   \n",
       "98               0.480159                           0.480162   \n",
       "99               0.480159                           0.480162   \n",
       "\n",
       "    Mini-batch SGD (b=8)  Mini-batch SGD (b=64)  \n",
       "0               0.499391               0.605637  \n",
       "1               0.485218               0.563537  \n",
       "2               0.481927               0.539185  \n",
       "3               0.480857               0.523595  \n",
       "4               0.481630               0.513216  \n",
       "5               0.481378               0.505781  \n",
       "6               0.481093               0.500352  \n",
       "7               0.481392               0.496315  \n",
       "8               0.481670               0.493216  \n",
       "9               0.481826               0.490785  \n",
       "90              0.480406               0.480161  \n",
       "91              0.480330               0.480162  \n",
       "92              0.480803               0.480161  \n",
       "93              0.480568               0.480160  \n",
       "94              0.480638               0.480161  \n",
       "95              0.480423               0.480162  \n",
       "96              0.480899               0.480162  \n",
       "97              0.480285               0.480161  \n",
       "98              0.480224               0.480164  \n",
       "99              0.480385               0.480162  "
      ]
     },
     "execution_count": 47,
     "metadata": {},
     "output_type": "execute_result"
    }
   ],
   "source": [
    "import pandas as pd\n",
    "# Displaying the first 10 and last 10 rows\n",
    "objective_values_df_display = pd.concat([objective_values_df.head(10), objective_values_df.tail(10)])\n",
    "objective_values_df_display"
   ]
  },
  {
   "cell_type": "code",
   "execution_count": null,
   "metadata": {},
   "outputs": [],
   "source": []
  }
 ],
 "metadata": {
  "kernelspec": {
   "display_name": "Python 3 (ipykernel)",
   "language": "python",
   "name": "python3"
  },
  "language_info": {
   "codemirror_mode": {
    "name": "ipython",
    "version": 3
   },
   "file_extension": ".py",
   "mimetype": "text/x-python",
   "name": "python",
   "nbconvert_exporter": "python",
   "pygments_lexer": "ipython3",
   "version": "3.7.1"
  }
 },
 "nbformat": 4,
 "nbformat_minor": 4
}
