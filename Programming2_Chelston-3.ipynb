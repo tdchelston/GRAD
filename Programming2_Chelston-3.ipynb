{
 "cells": [
  {
   "cell_type": "markdown",
   "metadata": {
    "id": "tbvNDxVNJ955"
   },
   "source": [
    "# Programming Assignment: Build a CNN for image recognition.\n",
    "\n",
    "### Name: Tyler Chelston\n"
   ]
  },
  {
   "cell_type": "markdown",
   "metadata": {
    "id": "McUGyBrIJ955"
   },
   "source": [
    "## 0. You will do the following:\n",
    "\n",
    "1. Read, complete, and run the code.\n",
    "\n",
    "2. **Make substantial improvements** to maximize the accuracy.\n",
    "    \n",
    "3. Convert the .IPYNB file to .HTML file.\n",
    "\n",
    "    * The HTML file must contain the code and the output after execution.\n",
    "    \n",
    "    * Missing **the output after execution** will not be graded.\n",
    "\n",
    "\n",
    "4. Upload the .HTML file to your Google Drive, Dropbox, or Github repo. (If you submit the file to Google Drive or Dropbox, you must make the file \"open-access\". The delay caused by \"deny of access\" may result in late penalty.)\n",
    "\n",
    "4. On Canvas, submit the Google Drive/Dropbox/Github link to the HTML file.\n",
    "\n",
    "\n",
    "## Requirements:\n",
    "\n",
    "1. You can use whatever CNN architecture, including VGG, Inception, and ResNet. However, you must build the networks layer by layer. You must NOT import the archetectures from ```keras.applications```.\n",
    "\n",
    "2. Make sure ```BatchNormalization``` is between a ```Conv```/```Dense``` layer and an ```activation``` layer.\n",
    "\n",
    "3. If you want to regularize a ```Conv```/```Dense``` layer, you should place a ```Dropout``` layer **before** the ```Conv```/```Dense``` layer.\n",
    "\n",
    "4. An accuracy above 70% is considered reasonable. An accuracy above 80% is considered good. Without data augmentation, achieving 80% accuracy is difficult.\n",
    "\n",
    "\n",
    "## Google Colab\n",
    "\n",
    "- If you do not have GPU, the training of a CNN can be slow. Google Colab is a good option.\n",
    "\n",
    "- Keep in mind that you must download it as an IPYNB file and then use IPython Notebook to convert it to HTML.\n",
    "\n",
    "- Also keep in mind that the IPYNB and HTML files must contain the outputs. (Otherwise, the instructor will not be able to know the correctness and performance.) Do the followings to keep the outputs.\n",
    "\n",
    "- In Colab, go to ```Runtime``` --> ```Change runtime type``` --> Do NOT check ```Omit code cell output when saving this notebook```. In this way, the downloaded IPYNB file contains the outputs."
   ]
  },
  {
   "cell_type": "markdown",
   "metadata": {
    "id": "G8alxZXxJ956"
   },
   "source": [
    "## 1. Data preparation"
   ]
  },
  {
   "cell_type": "markdown",
   "metadata": {
    "id": "PN99kqREJ956"
   },
   "source": [
    "### 1.1. Load data\n"
   ]
  },
  {
   "cell_type": "code",
   "execution_count": 1,
   "metadata": {
    "colab": {
     "base_uri": "https://localhost:8080/"
    },
    "id": "4fbF_ONzJ956",
    "outputId": "cb2aacdd-9c4c-409d-ea15-7bcbf9446447"
   },
   "outputs": [
    {
     "name": "stdout",
     "output_type": "stream",
     "text": [
      "shape of x_train: (50000, 32, 32, 3)\n",
      "shape of y_train: (50000, 1)\n",
      "shape of x_test: (10000, 32, 32, 3)\n",
      "shape of y_test: (10000, 1)\n",
      "number of classes: 10\n"
     ]
    }
   ],
   "source": [
    "from tensorflow.keras.datasets import cifar10\n",
    "import numpy\n",
    "\n",
    "(x_train, y_train), (x_test, y_test) = cifar10.load_data()\n",
    "\n",
    "print('shape of x_train: ' + str(x_train.shape))\n",
    "print('shape of y_train: ' + str(y_train.shape))\n",
    "print('shape of x_test: ' + str(x_test.shape))\n",
    "print('shape of y_test: ' + str(y_test.shape))\n",
    "print('number of classes: ' + str(numpy.max(y_train) - numpy.min(y_train) + 1))"
   ]
  },
  {
   "cell_type": "markdown",
   "metadata": {
    "id": "g0gQd3HwJ957"
   },
   "source": [
    "### 1.2. One-hot encode the labels\n",
    "\n",
    "In the input, a label is a scalar in $\\{0, 1, \\cdots , 9\\}$. One-hot encode transform such a scalar to a $10$-dim vector. E.g., a scalar ```y_train[j]=3``` is transformed to the vector ```y_train_vec[j]=[0, 0, 0, 1, 0, 0, 0, 0, 0, 0]```.\n",
    "\n",
    "1. Define a function ```to_one_hot``` that transforms an $n\\times 1$ array to a $n\\times 10$ matrix.\n",
    "\n",
    "2. Apply the function to ```y_train``` and ```y_test```."
   ]
  },
  {
   "cell_type": "code",
   "execution_count": 2,
   "metadata": {
    "colab": {
     "base_uri": "https://localhost:8080/"
    },
    "id": "aac_tjviJ957",
    "outputId": "84ca3453-eb25-4087-c804-027cddd7a63b"
   },
   "outputs": [
    {
     "name": "stdout",
     "output_type": "stream",
     "text": [
      "Shape of y_train_vec: (50000, 10)\n",
      "Shape of y_test_vec: (10000, 10)\n",
      "[6]\n",
      "[0. 0. 0. 0. 0. 0. 1. 0. 0. 0.]\n"
     ]
    }
   ],
   "source": [
    "import numpy as np\n",
    "\n",
    "def to_one_hot(y, num_class=10):\n",
    "    # Create an array of zeros with shape (len(y), num_class)\n",
    "    one_hot = np.zeros((len(y), num_class))\n",
    "\n",
    "    # Set the appropriate element to one\n",
    "    for i, label in enumerate(y):\n",
    "        one_hot[i, label] = 1\n",
    "\n",
    "    return one_hot\n",
    "\n",
    "y_train_vec = to_one_hot(y_train)\n",
    "y_test_vec = to_one_hot(y_test)\n",
    "\n",
    "print('Shape of y_train_vec: ' + str(y_train_vec.shape))\n",
    "print('Shape of y_test_vec: ' + str(y_test_vec.shape))\n",
    "\n",
    "print(y_train[0])\n",
    "print(y_train_vec[0])"
   ]
  },
  {
   "cell_type": "markdown",
   "metadata": {
    "id": "T7PUVom8J957"
   },
   "source": [
    "#### Remark: the outputs should be\n",
    "* Shape of y_train_vec: (50000, 10)\n",
    "* Shape of y_test_vec: (10000, 10)\n",
    "* [6]\n",
    "* [0. 0. 0. 0. 0. 0. 1. 0. 0. 0.]"
   ]
  },
  {
   "cell_type": "markdown",
   "metadata": {
    "id": "rJjNtCjGJ957"
   },
   "source": [
    "### 1.3. Randomly partition the training set to training and validation sets\n",
    "\n",
    "Randomly partition the 50K training samples to 2 sets:\n",
    "* a training set containing 40K samples\n",
    "* a validation set containing 10K samples\n"
   ]
  },
  {
   "cell_type": "code",
   "execution_count": 3,
   "metadata": {
    "colab": {
     "base_uri": "https://localhost:8080/"
    },
    "id": "nkveLbl4J957",
    "outputId": "3775a9fb-71a0-4612-978d-81978f7bd251"
   },
   "outputs": [
    {
     "name": "stdout",
     "output_type": "stream",
     "text": [
      "Shape of x_tr: (40000, 32, 32, 3)\n",
      "Shape of y_tr: (40000, 10)\n",
      "Shape of x_val: (10000, 32, 32, 3)\n",
      "Shape of y_val: (10000, 10)\n"
     ]
    }
   ],
   "source": [
    "rand_indices = numpy.random.permutation(50000)\n",
    "train_indices = rand_indices[0:40000]\n",
    "valid_indices = rand_indices[40000:50000]\n",
    "\n",
    "x_val = x_train[valid_indices, :]\n",
    "y_val = y_train_vec[valid_indices, :]\n",
    "\n",
    "x_tr = x_train[train_indices, :]\n",
    "y_tr = y_train_vec[train_indices, :]\n",
    "\n",
    "print('Shape of x_tr: ' + str(x_tr.shape))\n",
    "print('Shape of y_tr: ' + str(y_tr.shape))\n",
    "print('Shape of x_val: ' + str(x_val.shape))\n",
    "print('Shape of y_val: ' + str(y_val.shape))"
   ]
  },
  {
   "cell_type": "markdown",
   "metadata": {
    "id": "BdZbtUPeJ957"
   },
   "source": [
    "## 2. Build a CNN and tune its hyper-parameters\n",
    "\n",
    "1. Build a convolutional neural network model\n",
    "2. Use the validation data to tune the hyper-parameters (e.g., network structure, and optimization algorithm)\n",
    "    * Do NOT use test data for hyper-parameter tuning!!!\n",
    "3. Try to achieve a validation accuracy as high as possible."
   ]
  },
  {
   "cell_type": "markdown",
   "metadata": {
    "id": "-A9-6PFLJ957"
   },
   "source": [
    "### Remark:\n",
    "\n",
    "The following CNN is just an example. You are supposed to make **substantial improvements** such as:\n",
    "* Add more layers.\n",
    "* Use regularizations, e.g., dropout.\n",
    "* Use batch normalization."
   ]
  },
  {
   "cell_type": "code",
   "execution_count": 4,
   "metadata": {},
   "outputs": [
    {
     "name": "stdout",
     "output_type": "stream",
     "text": [
      "Default GPU Device: /device:GPU:0\n"
     ]
    },
    {
     "name": "stderr",
     "output_type": "stream",
     "text": [
      "2023-12-05 19:08:37.068650: I metal_plugin/src/device/metal_device.cc:1154] Metal device set to: Apple M1 Max\n",
      "2023-12-05 19:08:37.068672: I metal_plugin/src/device/metal_device.cc:296] systemMemory: 32.00 GB\n",
      "2023-12-05 19:08:37.068678: I metal_plugin/src/device/metal_device.cc:313] maxCacheSize: 10.67 GB\n",
      "2023-12-05 19:08:37.068719: I tensorflow/core/common_runtime/pluggable_device/pluggable_device_factory.cc:306] Could not identify NUMA node of platform GPU ID 0, defaulting to 0. Your kernel may not have been built with NUMA support.\n",
      "2023-12-05 19:08:37.068740: I tensorflow/core/common_runtime/pluggable_device/pluggable_device_factory.cc:272] Created TensorFlow device (/device:GPU:0 with 0 MB memory) -> physical PluggableDevice (device: 0, name: METAL, pci bus id: <undefined>)\n",
      "2023-12-05 19:08:37.071507: I tensorflow/core/common_runtime/pluggable_device/pluggable_device_factory.cc:306] Could not identify NUMA node of platform GPU ID 0, defaulting to 0. Your kernel may not have been built with NUMA support.\n",
      "2023-12-05 19:08:37.071529: I tensorflow/core/common_runtime/pluggable_device/pluggable_device_factory.cc:272] Created TensorFlow device (/device:GPU:0 with 0 MB memory) -> physical PluggableDevice (device: 0, name: METAL, pci bus id: <undefined>)\n"
     ]
    }
   ],
   "source": [
    "import tensorflow as tf\n",
    "\n",
    "if tf.test.gpu_device_name():\n",
    "    print('Default GPU Device: {}'.format(tf.test.gpu_device_name()))\n",
    "else:\n",
    "    print(\"Please install GPU version of TF\")\n"
   ]
  },
  {
   "cell_type": "markdown",
   "metadata": {
    "colab": {
     "base_uri": "https://localhost:8080/"
    },
    "id": "pOWYBQ28J957",
    "outputId": "565b94aa-e032-4abe-cef9-7e7aff8c05cd"
   },
   "source": [
    "\"\"\"\n",
    "from keras.layers import Conv2D, MaxPooling2D, Flatten, Dense\n",
    "from keras.models import Sequential\n",
    "\n",
    "model = Sequential()\n",
    "model.add(Conv2D(32, (3, 3), activation='relu', padding='same', input_shape=(32, 32, 3)))\n",
    "model.add(MaxPooling2D((2, 2)))\n",
    "model.add(Conv2D(64, (3, 3), activation='relu', padding='same'))\n",
    "model.add(MaxPooling2D((2, 2)))\n",
    "model.add(Flatten())\n",
    "model.add(Dense(128, activation='relu'))\n",
    "model.add(Dense(10, activation='softmax'))\n",
    "\n",
    "model.summary()\n",
    "\"\"\"\n",
    "\n",
    "import tensorflow as tf\n",
    "from tensorflow.keras import layers, models, optimizers, regularizers\n",
    "from tensorflow.keras.utils import to_categorical\n",
    "from tensorflow.keras.preprocessing.image import ImageDataGenerator\n",
    "import numpy as np\n",
    "\n",
    "\n",
    "# Function to build the CNN model with improvements\n",
    "def build_improved_cnn(input_shape, num_classes):\n",
    "    l2_reg = 0.001  # L2 regularization factor\n",
    "\n",
    "    model = models.Sequential()\n",
    "\n",
    "    # First Convolutional Block with Batch Normalization\n",
    "    model.add(layers.Dropout(0.25, input_shape=input_shape))  # Dropout before Conv\n",
    "    model.add(layers.Conv2D(32, (3, 3), padding='same',\n",
    "                            kernel_regularizer=regularizers.l2(l2_reg)))\n",
    "    model.add(layers.BatchNormalization())\n",
    "    model.add(layers.Activation('relu'))\n",
    "    model.add(layers.Dropout(0.25))  # Dropout before Conv\n",
    "    model.add(layers.Conv2D(32, (3, 3), kernel_regularizer=regularizers.l2(l2_reg)))\n",
    "\n",
    "    # Second Convolutional Block\n",
    "    model.add(layers.Conv2D(64, (3, 3), padding='same'))\n",
    "    model.add(layers.BatchNormalization())\n",
    "    model.add(layers.Activation('relu'))\n",
    "    model.add(layers.Conv2D(64, (3, 3)))\n",
    "    model.add(layers.BatchNormalization())\n",
    "    model.add(layers.Activation('relu'))\n",
    "    model.add(layers.MaxPooling2D(pool_size=(2, 2)))\n",
    "    model.add(layers.Dropout(0.25))\n",
    "\n",
    "    # Third Convolutional Block\n",
    "    model.add(layers.Conv2D(128, (3, 3), padding='same'))\n",
    "    model.add(layers.BatchNormalization())\n",
    "    model.add(layers.Activation('relu'))\n",
    "    model.add(layers.Conv2D(128, (3, 3)))\n",
    "    model.add(layers.BatchNormalization())\n",
    "    model.add(layers.Activation('relu'))\n",
    "    model.add(layers.MaxPooling2D(pool_size=(2, 2)))\n",
    "    model.add(layers.Dropout(0.25))\n",
    "\n",
    "    # Flattening followed by Dense layers\n",
    "    model.add(layers.Flatten())\n",
    "    model.add(layers.Dense(512))\n",
    "    model.add(layers.BatchNormalization())\n",
    "    model.add(layers.Activation('relu'))\n",
    "    model.add(layers.Dropout(0.5))\n",
    "    model.add(layers.Dense(num_classes, activation='softmax'))\n",
    "\n",
    "    return model"
   ]
  },
  {
   "cell_type": "code",
   "execution_count": 19,
   "metadata": {
    "id": "BzfUc8xRJ957"
   },
   "outputs": [],
   "source": [
    "import tensorflow as tf\n",
    "from tensorflow.keras import layers, models, optimizers, regularizers\n",
    "from tensorflow.keras.utils import to_categorical\n",
    "from tensorflow.keras.preprocessing.image import ImageDataGenerator\n",
    "from tensorflow.keras.callbacks import LearningRateScheduler\n",
    "import numpy as np\n",
    "import math\n",
    "\n",
    "# Function to build the CNN model with improvements\n",
    "def build_improved_cnn(input_shape, num_classes):\n",
    "    l2_reg = 0.001  # L2 regularization factor\n",
    "\n",
    "    model = models.Sequential()\n",
    "\n",
    "    # First Convolutional Block with Batch Normalization\n",
    "    model.add(layers.Dropout(0.25, input_shape=input_shape))  # Dropout before Conv\n",
    "    model.add(layers.Conv2D(32, (3, 3), padding='same',\n",
    "                            kernel_regularizer=regularizers.l2(l2_reg)))\n",
    "    model.add(layers.BatchNormalization())\n",
    "    model.add(layers.Activation('relu'))\n",
    "    model.add(layers.Dropout(0.25))  # Dropout before Conv\n",
    "    model.add(layers.Conv2D(32, (3, 3), kernel_regularizer=regularizers.l2(l2_reg)))\n",
    "\n",
    "    # Second Convolutional Block\n",
    "    model.add(layers.Conv2D(64, (3, 3), padding='same'))\n",
    "    model.add(layers.BatchNormalization())\n",
    "    model.add(layers.Activation('relu'))\n",
    "    model.add(layers.Conv2D(64, (3, 3)))\n",
    "    model.add(layers.BatchNormalization())\n",
    "    model.add(layers.Activation('relu'))\n",
    "    model.add(layers.MaxPooling2D(pool_size=(2, 2)))\n",
    "    model.add(layers.Dropout(0.25))\n",
    "\n",
    "    # Third Convolutional Block\n",
    "    model.add(layers.Conv2D(128, (3, 3), padding='same'))\n",
    "    model.add(layers.BatchNormalization())\n",
    "    model.add(layers.Activation('relu'))\n",
    "    model.add(layers.Conv2D(128, (3, 3)))\n",
    "    model.add(layers.BatchNormalization())\n",
    "    model.add(layers.Activation('relu'))\n",
    "    model.add(layers.MaxPooling2D(pool_size=(2, 2)))\n",
    "    model.add(layers.Dropout(0.25))\n",
    "\n",
    "    # Flattening followed by Dense layers\n",
    "    model.add(layers.Flatten())\n",
    "    model.add(layers.Dense(512))\n",
    "    model.add(layers.BatchNormalization())\n",
    "    model.add(layers.Activation('relu'))\n",
    "    model.add(layers.Dropout(0.5))\n",
    "    model.add(layers.Dense(num_classes, activation='softmax'))\n",
    "\n",
    "    return model\n",
    "\n",
    "\n",
    "# Function for learning rate decay\n",
    "def step_decay(epoch):\n",
    "    initial_lr = 1E-4\n",
    "    drop = 0.5\n",
    "    epochs_drop = 10.0\n",
    "    lr = initial_lr * math.pow(drop, math.floor((1+epoch)/epochs_drop))\n",
    "    return lr\n",
    "\n",
    "# Define the input shape and number of classes for CIFAR-10\n",
    "input_shape = (32, 32, 3)\n",
    "num_classes = 10\n",
    "\n",
    "\n",
    "# Callback for learning rate scheduling\n",
    "lr_scheduler = LearningRateScheduler(step_decay)\n",
    "\n",
    "# Build the model\n",
    "model = build_improved_cnn(input_shape, num_classes)\n",
    "\n",
    "# Compile the model\n",
    "model.compile(loss='categorical_crossentropy',\n",
    "              optimizer=optimizers.RMSprop(),\n",
    "              metrics=['acc'])\n",
    "\n",
    "# Data Augmentation setup\n",
    "datagen = ImageDataGenerator(\n",
    "    rotation_range=20,\n",
    "    width_shift_range=0.2,\n",
    "    height_shift_range=0.2,\n",
    "    horizontal_flip=True)"
   ]
  },
  {
   "cell_type": "code",
   "execution_count": 20,
   "metadata": {
    "colab": {
     "base_uri": "https://localhost:8080/"
    },
    "id": "UWkrLOh4J957",
    "outputId": "d7e46ab7-fe75-4cc9-a38b-ab96369dfb56"
   },
   "outputs": [
    {
     "name": "stdout",
     "output_type": "stream",
     "text": [
      "Epoch 1/20\n",
      "1250/1250 [==============================] - 33s 26ms/step - loss: 2.1498 - acc: 0.2604 - val_loss: 3.3113 - val_acc: 0.1232 - lr: 1.0000e-04\n",
      "Epoch 2/20\n",
      "1250/1250 [==============================] - 32s 26ms/step - loss: 1.8583 - acc: 0.3405 - val_loss: 2.9705 - val_acc: 0.1921 - lr: 1.0000e-04\n",
      "Epoch 3/20\n",
      "1250/1250 [==============================] - 32s 25ms/step - loss: 1.7346 - acc: 0.3842 - val_loss: 2.7633 - val_acc: 0.2481 - lr: 1.0000e-04\n",
      "Epoch 4/20\n",
      "1250/1250 [==============================] - 31s 25ms/step - loss: 1.6634 - acc: 0.4107 - val_loss: 2.5418 - val_acc: 0.2889 - lr: 1.0000e-04\n",
      "Epoch 5/20\n",
      "1250/1250 [==============================] - 32s 25ms/step - loss: 1.6008 - acc: 0.4298 - val_loss: 2.3453 - val_acc: 0.3218 - lr: 1.0000e-04\n",
      "Epoch 6/20\n",
      "1250/1250 [==============================] - 31s 25ms/step - loss: 1.5477 - acc: 0.4556 - val_loss: 2.3953 - val_acc: 0.3301 - lr: 1.0000e-04\n",
      "Epoch 7/20\n",
      "1250/1250 [==============================] - 31s 25ms/step - loss: 1.5082 - acc: 0.4686 - val_loss: 2.1410 - val_acc: 0.3694 - lr: 1.0000e-04\n",
      "Epoch 8/20\n",
      "1250/1250 [==============================] - 32s 25ms/step - loss: 1.4643 - acc: 0.4839 - val_loss: 2.1162 - val_acc: 0.3783 - lr: 1.0000e-04\n",
      "Epoch 9/20\n",
      "1250/1250 [==============================] - 32s 25ms/step - loss: 1.4345 - acc: 0.4945 - val_loss: 2.4228 - val_acc: 0.3569 - lr: 1.0000e-04\n",
      "Epoch 10/20\n",
      "1250/1250 [==============================] - 32s 25ms/step - loss: 1.3847 - acc: 0.5130 - val_loss: 2.3111 - val_acc: 0.3790 - lr: 5.0000e-05\n",
      "Epoch 11/20\n",
      "1250/1250 [==============================] - 32s 25ms/step - loss: 1.3589 - acc: 0.5225 - val_loss: 2.5028 - val_acc: 0.3722 - lr: 5.0000e-05\n",
      "Epoch 12/20\n",
      "1250/1250 [==============================] - 31s 25ms/step - loss: 1.3432 - acc: 0.5283 - val_loss: 2.3943 - val_acc: 0.3835 - lr: 5.0000e-05\n",
      "Epoch 13/20\n",
      "1250/1250 [==============================] - 32s 25ms/step - loss: 1.3217 - acc: 0.5360 - val_loss: 2.2267 - val_acc: 0.4111 - lr: 5.0000e-05\n",
      "Epoch 14/20\n",
      "1250/1250 [==============================] - 32s 25ms/step - loss: 1.3149 - acc: 0.5411 - val_loss: 2.1274 - val_acc: 0.4351 - lr: 5.0000e-05\n",
      "Epoch 15/20\n",
      "1250/1250 [==============================] - 32s 26ms/step - loss: 1.3068 - acc: 0.5427 - val_loss: 2.1410 - val_acc: 0.4292 - lr: 5.0000e-05\n",
      "Epoch 16/20\n",
      "1250/1250 [==============================] - 32s 25ms/step - loss: 1.2921 - acc: 0.5490 - val_loss: 2.0749 - val_acc: 0.4416 - lr: 5.0000e-05\n",
      "Epoch 17/20\n",
      "1250/1250 [==============================] - 32s 26ms/step - loss: 1.2780 - acc: 0.5510 - val_loss: 2.1131 - val_acc: 0.4445 - lr: 5.0000e-05\n",
      "Epoch 18/20\n",
      "1250/1250 [==============================] - 32s 25ms/step - loss: 1.2676 - acc: 0.5579 - val_loss: 2.3172 - val_acc: 0.4237 - lr: 5.0000e-05\n",
      "Epoch 19/20\n",
      "1250/1250 [==============================] - 32s 26ms/step - loss: 1.2595 - acc: 0.5590 - val_loss: 2.5933 - val_acc: 0.3915 - lr: 5.0000e-05\n",
      "Epoch 20/20\n",
      "1250/1250 [==============================] - 32s 26ms/step - loss: 1.2385 - acc: 0.5676 - val_loss: 2.2945 - val_acc: 0.4215 - lr: 2.5000e-05\n"
     ]
    }
   ],
   "source": [
    "history = model.fit(datagen.flow(x_tr, y_tr, batch_size=32),\n",
    "                    epochs=20,\n",
    "                    validation_data=(x_val, y_val),\n",
    "                    callbacks=[lr_scheduler])"
   ]
  },
  {
   "cell_type": "code",
   "execution_count": 21,
   "metadata": {
    "colab": {
     "base_uri": "https://localhost:8080/",
     "height": 449
    },
    "id": "dih_i3zJJ958",
    "outputId": "13ca4e75-3f64-49bf-fc20-5b37ab9e0da3"
   },
   "outputs": [
    {
     "name": "stderr",
     "output_type": "stream",
     "text": [
      "/opt/miniconda3/envs/tensorflow_new_env/lib/python3.9/site-packages/keras/src/engine/training.py:3103: UserWarning: You are saving your model as an HDF5 file via `model.save()`. This file format is considered legacy. We recommend using instead the native Keras format, e.g. `model.save('my_model.keras')`.\n",
      "  saving_api.save_model(\n"
     ]
    },
    {
     "data": {
      "image/png": "[encoded data removed]",
      "text/plain": [
       "<Figure size 640x480 with 1 Axes>"
      ]
     },
     "metadata": {},
     "output_type": "display_data"
    }
   ],
   "source": [
    "# Save the model\n",
    "model.save('my_cnn_model.h5')\n",
    "\n",
    "# Plot training history\n",
    "import matplotlib.pyplot as plt\n",
    "\n",
    "plt.plot(history.history['acc'], label='Training accuracy')\n",
    "plt.plot(history.history['val_acc'], label='Validation accuracy')\n",
    "plt.title('Training and Validation Accuracy')\n",
    "plt.xlabel('Epochs')\n",
    "plt.ylabel('Accuracy')\n",
    "plt.legend()\n",
    "plt.show()"
   ]
  },
  {
   "cell_type": "markdown",
   "metadata": {
    "id": "2LerUi1MJ958"
   },
   "source": [
    "## 3. Train (again) and evaluate the model\n",
    "\n",
    "- To this end, you have found the \"best\" hyper-parameters.\n",
    "- Now, fix the hyper-parameters and train the network on the entire training set (all the 50K training samples)\n",
    "- Evaluate your model on the test set."
   ]
  },
  {
   "cell_type": "markdown",
   "metadata": {
    "id": "7dhO79wuJ958"
   },
   "source": [
    "### 3.1. Train the model on the entire training set\n",
    "\n",
    "Why? Previously, you used 40K samples for training; you wasted 10K samples for the sake of hyper-parameter tuning. Now you already know the hyper-parameters, so why not using all the 50K samples for training?"
   ]
  },
  {
   "cell_type": "code",
   "execution_count": 22,
   "metadata": {
    "id": "sI572HRGJ958"
   },
   "outputs": [
    {
     "name": "stdout",
     "output_type": "stream",
     "text": [
      "Epoch 1/30\n",
      "1563/1563 [==============================] - 39s 24ms/step - loss: 1.0480 - acc: 0.6390\n",
      "Epoch 2/30\n",
      "1563/1563 [==============================] - 35s 22ms/step - loss: 0.9836 - acc: 0.6634\n",
      "Epoch 3/30\n",
      "1563/1563 [==============================] - 35s 22ms/step - loss: 0.9353 - acc: 0.6793\n",
      "Epoch 4/30\n",
      "1563/1563 [==============================] - 35s 23ms/step - loss: 0.9023 - acc: 0.6911\n",
      "Epoch 5/30\n",
      "1563/1563 [==============================] - 36s 23ms/step - loss: 0.8635 - acc: 0.7074\n",
      "Epoch 6/30\n",
      "1563/1563 [==============================] - 35s 23ms/step - loss: 0.8311 - acc: 0.7205\n",
      "Epoch 7/30\n",
      "1563/1563 [==============================] - 35s 23ms/step - loss: 0.8027 - acc: 0.7284\n",
      "Epoch 8/30\n",
      "1563/1563 [==============================] - 35s 23ms/step - loss: 0.7733 - acc: 0.7394\n",
      "Epoch 9/30\n",
      "1563/1563 [==============================] - 35s 23ms/step - loss: 0.7578 - acc: 0.7439\n",
      "Epoch 10/30\n",
      "1563/1563 [==============================] - 36s 23ms/step - loss: 0.7259 - acc: 0.7545\n",
      "Epoch 11/30\n",
      "1563/1563 [==============================] - 36s 23ms/step - loss: 0.7092 - acc: 0.7597\n",
      "Epoch 12/30\n",
      "1563/1563 [==============================] - 36s 23ms/step - loss: 0.6820 - acc: 0.7692\n",
      "Epoch 13/30\n",
      "1563/1563 [==============================] - 35s 23ms/step - loss: 0.6598 - acc: 0.7751\n",
      "Epoch 14/30\n",
      "1563/1563 [==============================] - 36s 23ms/step - loss: 0.6432 - acc: 0.7835\n",
      "Epoch 15/30\n",
      "1563/1563 [==============================] - 36s 23ms/step - loss: 0.6252 - acc: 0.7898\n",
      "Epoch 16/30\n",
      "1563/1563 [==============================] - 36s 23ms/step - loss: 0.6069 - acc: 0.7967\n",
      "Epoch 17/30\n",
      "1563/1563 [==============================] - 36s 23ms/step - loss: 0.5851 - acc: 0.8035\n",
      "Epoch 18/30\n",
      "1563/1563 [==============================] - 36s 23ms/step - loss: 0.5682 - acc: 0.8095\n",
      "Epoch 19/30\n",
      "1563/1563 [==============================] - 36s 23ms/step - loss: 0.5525 - acc: 0.8148\n",
      "Epoch 20/30\n",
      "1563/1563 [==============================] - 36s 23ms/step - loss: 0.5363 - acc: 0.8209\n",
      "Epoch 21/30\n",
      "1563/1563 [==============================] - 37s 24ms/step - loss: 0.5222 - acc: 0.8243\n",
      "Epoch 22/30\n",
      "1563/1563 [==============================] - 36s 23ms/step - loss: 0.5113 - acc: 0.8300\n",
      "Epoch 23/30\n",
      "1563/1563 [==============================] - 36s 23ms/step - loss: 0.4970 - acc: 0.8337\n",
      "Epoch 24/30\n",
      "1563/1563 [==============================] - 36s 23ms/step - loss: 0.4800 - acc: 0.8392\n",
      "Epoch 25/30\n",
      "1563/1563 [==============================] - 36s 23ms/step - loss: 0.4687 - acc: 0.8437\n",
      "Epoch 26/30\n",
      "1563/1563 [==============================] - 36s 23ms/step - loss: 0.4529 - acc: 0.8486\n",
      "Epoch 27/30\n",
      "1563/1563 [==============================] - 36s 23ms/step - loss: 0.4488 - acc: 0.8509\n",
      "Epoch 28/30\n",
      "1563/1563 [==============================] - 36s 23ms/step - loss: 0.4366 - acc: 0.8556\n",
      "Epoch 29/30\n",
      "1563/1563 [==============================] - 36s 23ms/step - loss: 0.4284 - acc: 0.8587\n",
      "Epoch 30/30\n",
      "1563/1563 [==============================] - 36s 23ms/step - loss: 0.4103 - acc: 0.8637\n"
     ]
    }
   ],
   "source": [
    "# Adjusted learning rate decay function\n",
    "def step_decay(epoch):\n",
    "    initial_lr = 1E-3  # Increased initial learning rate\n",
    "    drop = 0.5         \n",
    "    epochs_drop = 10.0 \n",
    "    lr = initial_lr * math.pow(drop, math.floor((1+epoch)/epochs_drop))\n",
    "    return lr\n",
    "\n",
    "# Adjusted model compilation\n",
    "model.compile(loss='categorical_crossentropy',\n",
    "              optimizer=optimizers.RMSprop(learning_rate=1E-4),  # Use the new initial learning rate\n",
    "              metrics=['acc'])\n",
    "\n",
    "# Potential adjustment in data augmentation\n",
    "datagen = ImageDataGenerator(\n",
    "    rotation_range=20,\n",
    "    width_shift_range=0.2,\n",
    "    height_shift_range=0.2,\n",
    "    zoom_range=0.2,           # Added zoom augmentation\n",
    "    horizontal_flip=True,\n",
    "    fill_mode='nearest'\n",
    ")\n",
    "\n",
    "# Train the model on the entire training set without using a validation set\n",
    "history = model.fit(x_train, y_train_vec, batch_size=32, epochs=30) \n",
    "\n",
    "# Save the model if needed\n",
    "model.save('my_model.h5')"
   ]
  },
  {
   "cell_type": "markdown",
   "metadata": {
    "id": "YLEXm906J958"
   },
   "source": [
    "<Train your model on the entire training set (50K samples)>\n",
    "<Use (x_train, y_train_vec) instead of (x_tr, y_tr)>\n",
    "<Do NOT use the validation_data option (because now you do not have validation data)>\n",
    "..."
   ]
  },
  {
   "cell_type": "markdown",
   "metadata": {
    "id": "SwlOw7MHJ958"
   },
   "source": [
    "### 3.2. Evaluate the model on the test set\n",
    "\n",
    "Do NOT used the test set until now. Make sure that your model parameters and hyper-parameters are independent of the test set."
   ]
  },
  {
   "cell_type": "code",
   "execution_count": 23,
   "metadata": {
    "id": "8dPRyPTOJ958"
   },
   "outputs": [
    {
     "name": "stdout",
     "output_type": "stream",
     "text": [
      "313/313 [==============================] - 3s 11ms/step - loss: 1.3633 - acc: 0.6693\n",
      "loss = 1.3632640838623047\n",
      "accuracy = 0.6693000197410583\n"
     ]
    }
   ],
   "source": [
    "loss_and_acc = model.evaluate(x_test, y_test_vec)\n",
    "print('loss = ' + str(loss_and_acc[0]))\n",
    "print('accuracy = ' + str(loss_and_acc[1]))"
   ]
  },
  {
   "cell_type": "markdown",
   "metadata": {},
   "source": [
    "# Essay Questions:\n",
    "# Improvements Made:\n",
    "\n",
    "* Added more convolutional layers for deeper feature extraction.\n",
    "* Implemented Dropout regularization to reduce overfitting by randomly deactivating neurons during training.\n",
    "* Included Batch Normalization after convolutional layers to normalize the activations and speed up training.\n",
    "* Applied Data Augmentation techniques such as rotation, width shift, height shift, and horizontal flipping to create variations of training images, helping the model generalize better.\n",
    "* Adjusted the learning rate decay function for more effective training progress.\n",
    "\n",
    "\n",
    "# Training, Validation, and Test Accuracies:\n",
    "\n",
    "* Training Accuracy: Improved steadily, reaching 86.37% by the 30th epoch.\n",
    "* Validation Accuracy: Fluctuated, with the highest being around 44.45% around the 17th epoch, indicating a potential overfitting issue.\n",
    "* Test Accuracy: 66.93%, as evaluated after the final training epoch. This suggests the model learned generalizable features but also indicates a gap between training and test performance."
   ]
  }
 ],
 "metadata": {
  "colab": {
   "provenance": []
  },
  "kernelspec": {
   "display_name": "Python (tensorflow_new_env)",
   "language": "python",
   "name": "tensorflow_new_env"
  },
  "language_info": {
   "codemirror_mode": {
    "name": "ipython",
    "version": 3
   },
   "file_extension": ".py",
   "mimetype": "text/x-python",
   "name": "python",
   "nbconvert_exporter": "python",
   "pygments_lexer": "ipython3",
   "version": "3.9.18"
  }
 },
 "nbformat": 4,
 "nbformat_minor": 4
}
